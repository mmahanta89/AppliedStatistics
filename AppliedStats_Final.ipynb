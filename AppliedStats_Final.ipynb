{
 "cells": [
  {
   "cell_type": "code",
   "execution_count": null,
   "metadata": {
    "colab": {},
    "colab_type": "code",
    "id": "mzNrG0AOxzZ9"
   },
   "outputs": [],
   "source": [
    "#from google.colab import files\n",
    "#files.upload()"
   ]
  },
  {
   "cell_type": "markdown",
   "metadata": {},
   "source": [
    "### 1. Import the necessary libraries"
   ]
  },
  {
   "cell_type": "code",
   "execution_count": null,
   "metadata": {
    "colab": {},
    "colab_type": "code",
    "id": "8JJuWpa7y2iG"
   },
   "outputs": [],
   "source": [
    "import numpy as np\n",
    "import pandas as pd\n",
    "import matplotlib.pyplot as plt\n",
    "%matplotlib inline\n",
    "import seaborn as sns\n",
    "sns.set_style('whitegrid')\n",
    "sns.set(color_codes=True)\n",
    "\n",
    "import warnings\n",
    "warnings.simplefilter(action='ignore')\n",
    "\n",
    "from scipy.stats import norm\n",
    "import scipy.stats as stats\n",
    "from math import *\n",
    "\n",
    "pd.set_option('display.max_columns',None )\n",
    "pd.set_option('display.width', 1000)\n",
    "\n",
    "import copy\n",
    "from sklearn.preprocessing import LabelEncoder"
   ]
  },
  {
   "cell_type": "markdown",
   "metadata": {},
   "source": [
    "### 2. Read the data as a data frame"
   ]
  },
  {
   "cell_type": "code",
   "execution_count": null,
   "metadata": {},
   "outputs": [],
   "source": [
    "#Importing data from csv to data frame\n",
    "df=pd.read_csv('insurance (2).csv')"
   ]
  },
  {
   "cell_type": "markdown",
   "metadata": {},
   "source": [
    "### 3a. Shape of data"
   ]
  },
  {
   "cell_type": "code",
   "execution_count": null,
   "metadata": {},
   "outputs": [],
   "source": [
    "\n",
    "print(\"Shape of data:\",df.shape)\n",
    "print(\"Available dataframe shape:\\nTotal Columns:\",df.shape[1],\"\\nTotal Rows:\",df.shape[0])"
   ]
  },
  {
   "cell_type": "code",
   "execution_count": null,
   "metadata": {},
   "outputs": [],
   "source": [
    "#3M - Mean Median Mode"
   ]
  },
  {
   "cell_type": "code",
   "execution_count": null,
   "metadata": {},
   "outputs": [],
   "source": [
    " def get3M( data):\n",
    "        print(\"Mean:\",np.mean(data))\n",
    "        print(\"Meadian:\",np.median(data))\n",
    "        print(\"Mode:\",stats.mode(data)[0])\n",
    "        print(\"Mode:\",data.mode())\n",
    "        \n",
    "get3M(df.age)\n",
    "print('''Mean and meadian are close to equal but mode is way below mean/median, \n",
    "showing highest peak is towards lower range of data set.\n",
    " mean>median - slightly Positive or rt skewed''')"
   ]
  },
  {
   "cell_type": "code",
   "execution_count": null,
   "metadata": {},
   "outputs": [],
   "source": [
    "       \n",
    "get3M(df.bmi)\n",
    "print('''Mean and meadian are close to equal but mode is slightly more than mean/median, \n",
    "showing highest peak is close to middle range of data set.\n",
    " mean>median - slightly Positive or rt skewed''')"
   ]
  },
  {
   "cell_type": "code",
   "execution_count": null,
   "metadata": {},
   "outputs": [],
   "source": [
    "get3M(df.charges)\n",
    "print('''Mean and meadian are close to equal but mode is very less than mean/median, \n",
    "showing highest peak is towards low range of data set.\n",
    " mean>median - highly Positive or rt skewed''')"
   ]
  },
  {
   "cell_type": "code",
   "execution_count": null,
   "metadata": {
    "colab": {},
    "colab_type": "code",
    "id": "FJ3vVWOkzYvU"
   },
   "outputs": [],
   "source": [
    "print(\"Mean:\\n\",df.mean())\n",
    "print(\"\\nMedian:\\n\",df.median())\n",
    "print(\"\\nMod:\\n\",df.mode())\n"
   ]
  },
  {
   "cell_type": "code",
   "execution_count": null,
   "metadata": {},
   "outputs": [],
   "source": []
  },
  {
   "cell_type": "markdown",
   "metadata": {},
   "source": [
    "### 3b. Data Type of each Attribute"
   ]
  },
  {
   "cell_type": "code",
   "execution_count": null,
   "metadata": {
    "colab": {},
    "colab_type": "code",
    "id": "o0VLlbLDz6RO"
   },
   "outputs": [],
   "source": [
    "print(\"Attribute Details:\")\n",
    "print(df.info())\n",
    "print('''\\nColumns are having expected data types.\n",
    "All are having non null values and of same count.\n",
    "\n",
    "BMI and Charges are Float having continuous data,\n",
    "Age and Children are int as discrete numerical values, No. of Children is a numerical value but considered as categorical\n",
    "Sex, Smooker and Region are object(contains string) categorical data\n",
    "''')"
   ]
  },
  {
   "cell_type": "markdown",
   "metadata": {},
   "source": [
    "### Analyzing Data present"
   ]
  },
  {
   "cell_type": "code",
   "execution_count": null,
   "metadata": {
    "colab": {},
    "colab_type": "code",
    "id": "tljs6KqdMkIP"
   },
   "outputs": [],
   "source": [
    "print(\"Top 10 rows:\\n\",df.head(10))\n",
    "print(\"\\nBottom 10 rows:\\n\",df.tail(10))\n",
    "print(\"\\nSample Values looks widely distributed across all columns\")"
   ]
  },
  {
   "cell_type": "markdown",
   "metadata": {},
   "source": [
    "### 3c. Checking presence of missing values"
   ]
  },
  {
   "cell_type": "code",
   "execution_count": null,
   "metadata": {
    "colab": {},
    "colab_type": "code",
    "id": "nQ-lTFfPM2Jd"
   },
   "outputs": [],
   "source": [
    "print(df.isna().sum())\n",
    "print()\n",
    "print(df.isnull().sum())\n",
    "print(\"\\nNo nan/null data present, validated same using unique value and value counts as well\")"
   ]
  },
  {
   "cell_type": "code",
   "execution_count": null,
   "metadata": {
    "colab": {},
    "colab_type": "code",
    "id": "L3n-D_CWQgKv"
   },
   "outputs": [],
   "source": [
    "print(df.sex.unique())\n",
    "df.sex.value_counts()"
   ]
  },
  {
   "cell_type": "code",
   "execution_count": null,
   "metadata": {
    "colab": {},
    "colab_type": "code",
    "id": "jqJfD24cQoGN"
   },
   "outputs": [],
   "source": [
    "print(df.children.unique())\n",
    "df.children.value_counts()"
   ]
  },
  {
   "cell_type": "code",
   "execution_count": null,
   "metadata": {
    "colab": {},
    "colab_type": "code",
    "id": "HAHl856cQs-V"
   },
   "outputs": [],
   "source": [
    "print(df.smoker.unique())\n",
    "df.smoker.value_counts()"
   ]
  },
  {
   "cell_type": "code",
   "execution_count": null,
   "metadata": {
    "colab": {},
    "colab_type": "code",
    "id": "aF2hdi01Qw61"
   },
   "outputs": [],
   "source": [
    "print(df.region.unique())\n",
    "df.region.value_counts()"
   ]
  },
  {
   "cell_type": "code",
   "execution_count": null,
   "metadata": {
    "colab": {},
    "colab_type": "code",
    "id": "1QosrfTOQ2dl"
   },
   "outputs": [],
   "source": [
    "print(df.bmi.unique())\n",
    "df.bmi.value_counts()"
   ]
  },
  {
   "cell_type": "code",
   "execution_count": null,
   "metadata": {
    "colab": {},
    "colab_type": "code",
    "id": "DPwrjEMgRSAF"
   },
   "outputs": [],
   "source": [
    "print(df.charges.unique())\n",
    "df.charges.value_counts()"
   ]
  },
  {
   "cell_type": "code",
   "execution_count": null,
   "metadata": {
    "colab": {},
    "colab_type": "code",
    "id": "Xd0aLRpGQGH-"
   },
   "outputs": [],
   "source": [
    "df.age.unique()"
   ]
  },
  {
   "cell_type": "markdown",
   "metadata": {
    "colab": {},
    "colab_type": "code",
    "id": "LILCmGvMQCDn"
   },
   "source": [
    "### 3d. 5 point summary of numerical attributes"
   ]
  },
  {
   "cell_type": "code",
   "execution_count": null,
   "metadata": {
    "colab": {},
    "colab_type": "code",
    "id": "YQ3FTsTlMlA9"
   },
   "outputs": [],
   "source": [
    "print(df.describe(include='all'))\n",
    "print(\"\\n\\n\")\n",
    "print(df.describe(include='all',percentiles=[.1,.2,.3,.4,.5,.6,.7,.8,.9,.95]))\n",
    "print('''\n",
    "Categorical Values Sex, Smoker, Region seems to have expected variation of unique data.\n",
    "For numerical continuous Variable\n",
    "Age: \n",
    "- min and max age are from range of 18-64\n",
    "- Q1 - 27\n",
    "- Q2 - 39\n",
    "- Q3 - 51\n",
    "- mean and 50 percentile are very close giving a idea that majority of insurance hoalders are close to mean age of 39.\n",
    "- mean and median are similar 39.2 -- 39 - suggests distribution is not too skewed\n",
    "- std deviation is quite high showing high variation\n",
    "\n",
    "BMI:\n",
    "- min and max bmi are 15.96 -- 53.13\n",
    "- Q1 - 26\n",
    "- Q2 - 30\n",
    "- Q3 - 34\n",
    "- mean and 50% are very close around 30\n",
    "- mean and median are similar 30.6 -- 30.4 - suggests distribution is not skewed\n",
    "- considering 20%-80% from level 25.32--35.86, seems a lesser gap for 60% of the data consideiring std deviation of 6.09 which leads to possibiliteis of high outliers\n",
    "- Std deviation is low\n",
    "\n",
    "Charges:\n",
    "- min and max charges are  1121.87 -- 63770.42\n",
    "- Q1 - 4740.287150\n",
    "- Q2 - 9382.033000\n",
    "- Q3 - 16639.912515\n",
    "- mean and 50% are 113270.42 -- 9382.03\n",
    "- mean is higher then meadian suggests distribution that is skewed to the right\n",
    "- 90%, 95% and max values are having a huge gap suggesting outliers presence towards higher charges\n",
    "- Std deviation is high\n",
    "''')"
   ]
  },
  {
   "cell_type": "markdown",
   "metadata": {},
   "source": [
    "### 3e. Distribution of ‘bmi’, ‘age’ and ‘charges’ columns"
   ]
  },
  {
   "cell_type": "code",
   "execution_count": null,
   "metadata": {},
   "outputs": [],
   "source": [
    "plt.figure(figsize= (20,15))\n",
    "plt.subplot(3,3,1)\n",
    "plt.hist(df.age,bins=100)\n",
    "plt.xlabel(\"AGE\")\n",
    "\n",
    "plt.subplot(3,3,2)\n",
    "plt.hist(df.bmi,bins=100)\n",
    "plt.xlabel(\"BMI\")\n",
    "\n",
    "plt.subplot(3,3,3)\n",
    "plt.hist(df.charges,bins=100)\n",
    "plt.xlabel(\"CHARGES\")\n",
    "\n",
    "plt.show();"
   ]
  },
  {
   "cell_type": "code",
   "execution_count": null,
   "metadata": {
    "colab": {},
    "colab_type": "code",
    "id": "ABVlY3FRQRQW"
   },
   "outputs": [],
   "source": [
    "sns.distplot(df.age,bins=50);\n",
    "plt.show()\n",
    "print('''\n",
    "Distribution shows there is high frequence for age 18-19\n",
    "For rest of the age groups the distribution is kind of flat line i.e. more or less distributed evenly\n",
    "''')"
   ]
  },
  {
   "cell_type": "code",
   "execution_count": null,
   "metadata": {
    "colab": {},
    "colab_type": "code",
    "id": "ZlMbHVbiW9BY"
   },
   "outputs": [],
   "source": [
    "sns.distplot(df.bmi,bins=100);\n",
    "plt.show()\n",
    "print('''\n",
    "Distribution seems a little skewed towards right, few outliers towards rt side of the distribution\n",
    "major peaks or frequencies are between 25-35\n",
    "''')"
   ]
  },
  {
   "cell_type": "code",
   "execution_count": null,
   "metadata": {
    "colab": {},
    "colab_type": "code",
    "id": "apCh-dLirqeA"
   },
   "outputs": [],
   "source": [
    "sns.distplot(df.charges,bins=100);\n",
    "plt.show()\n",
    "print('''\n",
    "Distribution is highly skewed towards right\n",
    "Highest peaks or frequencies are under 10K\n",
    "Major Outliers towards higher charges\n",
    "''')"
   ]
  },
  {
   "cell_type": "markdown",
   "metadata": {},
   "source": [
    "### 3f. Measure of skewness of ‘bmi’, ‘age’ and ‘charges’ columns"
   ]
  },
  {
   "cell_type": "code",
   "execution_count": null,
   "metadata": {
    "scrolled": true
   },
   "outputs": [],
   "source": [
    "df.skew()"
   ]
  },
  {
   "cell_type": "code",
   "execution_count": null,
   "metadata": {
    "colab": {},
    "colab_type": "code",
    "id": "myzi6brXxIDz",
    "scrolled": true
   },
   "outputs": [],
   "source": [
    "# Measure of skewness\n",
    "print(\"Age \\nSkweness : \", stats.skew(df.loc[:,'age']))\n",
    "print(\"Kurtosis : \", stats.kurtosis(df.loc[:,'age']))\n",
    "print(\"\\nBMI\\nSkweness : \", stats.skew(df.loc[:,'bmi']))\n",
    "print(\"Kurtosis : \", stats.kurtosis(df.loc[:,'bmi']))\n",
    "print(\"\\nCharges\\nSkweness : \", stats.skew(df.loc[:,'charges']))\n",
    "print(\"Kurtosis : \", stats.kurtosis(df.loc[:,'charges']))\n"
   ]
  },
  {
   "cell_type": "code",
   "execution_count": null,
   "metadata": {},
   "outputs": [],
   "source": [
    "\n",
    "print('''\n",
    "Age, low +ve skewness is less but -ve kurtosis is high in the distribution representing a flat plateu or distribution of data\n",
    "Negative values of kurtosis indicate that a distribution is flat and has thin tails\n",
    "\n",
    "BMI, low +ve  skewness and low negetive kurtosis. Very close to normal distribution\n",
    "\n",
    "Charges, high positive skewness, long tail towards right, more outliers towards right.\n",
    "high positive values of kurtosis indicate that a distribution is peaked and possess thick tails\n",
    "''')"
   ]
  },
  {
   "cell_type": "markdown",
   "metadata": {},
   "source": [
    "### g. Checking the presence of outliers in ‘bmi’, ‘age’ and ‘charges columns"
   ]
  },
  {
   "cell_type": "code",
   "execution_count": null,
   "metadata": {},
   "outputs": [],
   "source": [
    "plt.figure(figsize= (10,8))\n",
    "plt.subplot(3,1,1)\n",
    "sns.boxplot(x=df.age)\n",
    "plt.subplot(3,1,2)\n",
    "sns.boxplot(x=df.bmi)\n",
    "plt.subplot(3,1,3)\n",
    "sns.boxplot(x=df.charges)\n",
    "\n",
    "plt.show()"
   ]
  },
  {
   "cell_type": "markdown",
   "metadata": {},
   "source": [
    "\n",
    "Box plots shows \n",
    "- Age - No outliers\n",
    "- BMI - Few outliers for higher bmi values\n",
    "- Charges - High outliers count towards high charges range\n"
   ]
  },
  {
   "cell_type": "code",
   "execution_count": null,
   "metadata": {
    "colab": {},
    "colab_type": "code",
    "id": "vjyF7wdwaGty"
   },
   "outputs": [],
   "source": [
    "#getting 2 sigma values\n",
    "print(\"Age:\\n\",df[(df.age>df.age.mean()+2*df.age.std())|(df.age<df.age.mean()-2*df.age.std())])\n",
    "print(\"\\nBMI:\\n\")\n",
    "#df[(df.bmi>df.bmi.mean()+2*df.bmi.std())|(df.bmi<df.bmi.mean()-2*df.bmi.std())]\n",
    "print(df[(df.bmi>df.bmi.mean()+3*df.bmi.std())|(df.bmi<df.bmi.mean()-3*df.bmi.std())])\n",
    "print(\"\\nCharges:\\n\")\n",
    "print(df[(df.charges>df.charges.mean()+3*df.charges.std())|(df.charges<df.charges.mean()-3*df.charges.std())])\n"
   ]
  },
  {
   "cell_type": "markdown",
   "metadata": {
    "colab": {},
    "colab_type": "code",
    "id": "Jq67rkgQjfTk"
   },
   "source": [
    "\n",
    "#### Using 2/3 sigma as well we can notice there are outlier present for BMI and Charges but, No outliers present in Age for even 2 sigma values\n"
   ]
  },
  {
   "cell_type": "markdown",
   "metadata": {
    "colab": {},
    "colab_type": "code",
    "id": "uYHVbBFDj6Ss"
   },
   "source": [
    "### 3h. Distribution of categorical columns (include children)"
   ]
  },
  {
   "cell_type": "code",
   "execution_count": null,
   "metadata": {
    "colab": {},
    "colab_type": "code",
    "id": "98MlQ1RXkFaR"
   },
   "outputs": [],
   "source": [
    "plt.figure(figsize= (12,12))\n",
    "plt.subplot(2,2,1)\n",
    "sns.countplot(x=df.sex)\n",
    "\n",
    "plt.subplot(2,2,2)\n",
    "sns.countplot(x=df.children)\n",
    "\n",
    "plt.subplot(2,2,3)\n",
    "sns.countplot(x=df.smoker)\n",
    "\n",
    "plt.subplot(2,2,4)\n",
    "sns.countplot(x=df.region)\n",
    "\n",
    "plt.show()"
   ]
  },
  {
   "cell_type": "markdown",
   "metadata": {
    "colab": {},
    "colab_type": "code",
    "id": "IpLKYa6bkuac"
   },
   "source": [
    "\n",
    "From over all view, \n",
    "- Sex is distributed almost evenly,\n",
    "- presence of no children/ less than 3 children is more compared to 3/4/5\n",
    "- Smoker presene is less compared non-smokers\n",
    "- Values are evenly spread across almost all regions\n"
   ]
  },
  {
   "cell_type": "markdown",
   "metadata": {
    "colab": {},
    "colab_type": "code",
    "id": "Rpe_Z6KGrB3j"
   },
   "source": [
    "#### Analysis of  categorical column"
   ]
  },
  {
   "cell_type": "code",
   "execution_count": null,
   "metadata": {
    "colab": {},
    "colab_type": "code",
    "id": "lAL45bGEmAfa"
   },
   "outputs": [],
   "source": [
    "sns.countplot(x=df.sex)\n",
    "plt.show()\n",
    "print(df.sex.value_counts())\n",
    "print('''\n",
    "Presence of male and female distribution looks very close similar, where male having slightly higher count then female\n",
    "Based on the value counts, males are just 14 count above female distribution\n",
    "''')"
   ]
  },
  {
   "cell_type": "code",
   "execution_count": null,
   "metadata": {
    "colab": {},
    "colab_type": "code",
    "id": "FkrXdSr5xv_L"
   },
   "outputs": [],
   "source": []
  },
  {
   "cell_type": "code",
   "execution_count": null,
   "metadata": {
    "colab": {},
    "colab_type": "code",
    "id": "hmTaI1Iulc4S"
   },
   "outputs": [],
   "source": [
    "sns.countplot(x=df.children)\n",
    "plt.show()\n",
    "print(df.children.value_counts())\n",
    "print('''\n",
    "Presence of people having no children is higest compared to any other values.\n",
    "Having 4/5 children is very less in distribution.\n",
    "''')"
   ]
  },
  {
   "cell_type": "code",
   "execution_count": null,
   "metadata": {
    "colab": {},
    "colab_type": "code",
    "id": "6dCkMWHjmH3q",
    "scrolled": true
   },
   "outputs": [],
   "source": [
    "sns.countplot(x=df.smoker,hue=df.sex)\n",
    "plt.show()\n",
    "print(\"Presence of non-smoker are high in the distribution, male smokers are high compared to female\")\n",
    "print(df.smoker.value_counts())"
   ]
  },
  {
   "cell_type": "code",
   "execution_count": null,
   "metadata": {
    "colab": {},
    "colab_type": "code",
    "id": "gu5hH-WOzVP8"
   },
   "outputs": [],
   "source": [
    "sns.countplot(x=df.smoker,hue=df.region)\n",
    "plt.show()\n",
    "print('''Smokers are distributed in all regions with southwest region having more somkers compared to others.\n",
    " Southwest is also leading the non smoker group as well with very light margin''')"
   ]
  },
  {
   "cell_type": "code",
   "execution_count": null,
   "metadata": {
    "colab": {},
    "colab_type": "code",
    "id": "NQ9flHFVmP5q"
   },
   "outputs": [],
   "source": [
    "sns.countplot(x=df.region)\n",
    "plt.show()\n",
    "print(df.region.value_counts())\n",
    "print('''\n",
    "Southwest region has slightly more dominance in distribution compared to other regions.\n",
    "''')"
   ]
  },
  {
   "cell_type": "code",
   "execution_count": null,
   "metadata": {},
   "outputs": [],
   "source": []
  },
  {
   "cell_type": "markdown",
   "metadata": {},
   "source": [
    "### 3i. Pair plot that includes all the columns of the data frame"
   ]
  },
  {
   "cell_type": "code",
   "execution_count": null,
   "metadata": {},
   "outputs": [],
   "source": [
    "#pair plot ignores string values\n",
    "\n",
    "# Deep copy\n",
    "copydf=copy.deepcopy(df)\n",
    "#covert categorical values to numerical before pair plot\n",
    "copydf.loc[:,['sex', 'smoker', 'region']] = copydf.loc[:,['sex', 'smoker', 'region']].apply(LabelEncoder().fit_transform) \n",
    "plt.show()\n"
   ]
  },
  {
   "cell_type": "code",
   "execution_count": null,
   "metadata": {},
   "outputs": [],
   "source": [
    "sns.pairplot(copydf, kind=\"reg\")\n",
    "plt.show()"
   ]
  },
  {
   "cell_type": "code",
   "execution_count": null,
   "metadata": {},
   "outputs": [],
   "source": [
    "print('''\n",
    "Overview:\n",
    "Pattern with age and charges: formation of groups based on charges across all age groups\n",
    "increase with age shows correlation with charges\n",
    "Pattern with smoker and charges: charges are higher for smokers, correlations seems high\n",
    "''')"
   ]
  },
  {
   "cell_type": "markdown",
   "metadata": {},
   "source": [
    "### Detailed analysis"
   ]
  },
  {
   "cell_type": "code",
   "execution_count": null,
   "metadata": {
    "colab": {},
    "colab_type": "code",
    "id": "L-dnc4Am4aS1"
   },
   "outputs": [],
   "source": [
    "sns.pairplot(df,hue=\"smoker\")\n",
    "plt.show()\n",
    "print('''\n",
    "Non smokers presence is more in less than 10K charges and smokers has high presence in high chareges\n",
    "Presence of smokers is less in people having 4/5 childrens\n",
    "BMI peak at mean is slightly higher in non smoker compared to smokers\n",
    "''')"
   ]
  },
  {
   "cell_type": "code",
   "execution_count": null,
   "metadata": {
    "colab": {},
    "colab_type": "code",
    "id": "9nzXWhZ1l5nS"
   },
   "outputs": [],
   "source": [
    "sns.pairplot(df,hue=\"sex\")\n",
    "plt.show()\n",
    "print('''\n",
    "Male female distribution is similar in age,bmi,children and chareges.\n",
    "Females are having slighlty higher presence in low charges (less than 25K) range compared to males.\n",
    "''')"
   ]
  },
  {
   "cell_type": "code",
   "execution_count": null,
   "metadata": {
    "colab": {},
    "colab_type": "code",
    "id": "FOTahcft4m6U"
   },
   "outputs": [],
   "source": [
    "sns.pairplot(df,hue=\"region\")\n",
    "plt.show()\n",
    "print('''\n",
    "Northwest and southwest region presnce is more in less thank 25K charges range compared to other regions.\n",
    "BMI peaks towards low BMI of northwest and southwest is higher compared to other regions, \n",
    "southeast is having lowest bmi peak of all and towards the high bmi region.\n",
    "''')"
   ]
  },
  {
   "cell_type": "code",
   "execution_count": null,
   "metadata": {
    "colab": {},
    "colab_type": "code",
    "id": "t0aTzvFx4kui"
   },
   "outputs": [],
   "source": []
  },
  {
   "cell_type": "code",
   "execution_count": null,
   "metadata": {
    "colab": {},
    "colab_type": "code",
    "id": "_X-3VdkFuMAa"
   },
   "outputs": [],
   "source": [
    "#grid = sns.PairGrid(df)\n",
    "#\n",
    "#grid = grid.map_diag(plt.hist)\n",
    "#grid = grid.map_upper(plt.scatter)\n",
    "#grid = grid.map_lower(sns.kdeplot)"
   ]
  },
  {
   "cell_type": "code",
   "execution_count": null,
   "metadata": {
    "colab": {},
    "colab_type": "code",
    "id": "YjPbSUwZwJQ-"
   },
   "outputs": [],
   "source": []
  },
  {
   "cell_type": "code",
   "execution_count": null,
   "metadata": {
    "colab": {},
    "colab_type": "code",
    "id": "ho1S8_0DwI4X"
   },
   "outputs": [],
   "source": []
  },
  {
   "cell_type": "markdown",
   "metadata": {
    "colab": {},
    "colab_type": "code",
    "id": "3rnnvPU1wIEi"
   },
   "source": [
    "### 4a. Do charges of people who smoke differ significantly from the people who don't?"
   ]
  },
  {
   "cell_type": "code",
   "execution_count": null,
   "metadata": {
    "colab": {},
    "colab_type": "code",
    "id": "_oNdmt0e2lfP"
   },
   "outputs": [],
   "source": [
    "sns.swarmplot(x=df.smoker,y=df.charges)\n",
    "plt.show()\n",
    "print(\"Charges seems higher for smokers in initial view.\")"
   ]
  },
  {
   "cell_type": "code",
   "execution_count": null,
   "metadata": {},
   "outputs": [],
   "source": [
    "# H0 - Charges of people are similar for smoker and non smoker.\n",
    "# HA - Charges of people who smoke differ significantly from the people."
   ]
  },
  {
   "cell_type": "code",
   "execution_count": null,
   "metadata": {},
   "outputs": [],
   "source": [
    "smoker_charges = df[df['smoker'] == 'yes'].charges\n",
    "smoker_charges"
   ]
  },
  {
   "cell_type": "code",
   "execution_count": null,
   "metadata": {},
   "outputs": [],
   "source": [
    "non_smoker_charges = df[df['smoker'] == 'no'].charges\n",
    "non_smoker_charges"
   ]
  },
  {
   "cell_type": "code",
   "execution_count": null,
   "metadata": {},
   "outputs": [],
   "source": [
    "print(\"Smoker charges:\",smoker_charges.mean(),\"\\nNon Smoker Charges:\",non_smoker_charges.mean())\n",
    "print(\"Smoker average charge seems higher\")"
   ]
  },
  {
   "cell_type": "code",
   "execution_count": null,
   "metadata": {},
   "outputs": [],
   "source": [
    "df.smoker.value_counts()"
   ]
  },
  {
   "cell_type": "code",
   "execution_count": null,
   "metadata": {},
   "outputs": [],
   "source": [
    "# Ho = \"Charges of people are similar for smoker and non-smoker\"\n",
    "# Ha = \"Charges of peple are different for smoker and non-smoker\"\n",
    "# considering alpha of 0.05 , significance level of 5%"
   ]
  },
  {
   "cell_type": "code",
   "execution_count": null,
   "metadata": {},
   "outputs": [],
   "source": []
  },
  {
   "cell_type": "code",
   "execution_count": null,
   "metadata": {},
   "outputs": [],
   "source": [
    "t_sm,p_value_sm=stats.ttest_ind(smoker_charges,non_smoker_charges)"
   ]
  },
  {
   "cell_type": "code",
   "execution_count": null,
   "metadata": {},
   "outputs": [],
   "source": [
    "if(p_value_sm<0.05):\n",
    "    print('''p-Values is less than 5% significane level or 0.05,\n",
    "        i.e. we reject the null hypothesis of charges being same for smoker and non-smoker.\n",
    "        Ha = \"Charges of people are different for smoker and non-smoker\"\n",
    "        \\np-values: ''',p_value_sm,\n",
    "        '''\\nt-Stats:''',t_sm)\n",
    "else:\n",
    "    print('''p-Values is greater than 5% significane level or 0.05, i.e. we fail to reject the null hypothesis of charges being same for smoker and non-smoker.\n",
    "        \\np-values: ''',p_value_sm,\n",
    "        '''\\nt-Stats:''',t_sm)\n",
    "    "
   ]
  },
  {
   "cell_type": "code",
   "execution_count": null,
   "metadata": {},
   "outputs": [],
   "source": [
    "print('''Yes, charges of people who smoke differ significantly from the people who don't.\n",
    "Statistically proven as p-value captured is significantly below 5% significance level.''')\n",
    "print(\"Positive t stat show charges of smoker are higher then non-smoker.\")"
   ]
  },
  {
   "cell_type": "code",
   "execution_count": null,
   "metadata": {},
   "outputs": [],
   "source": []
  },
  {
   "cell_type": "markdown",
   "metadata": {},
   "source": [
    "### 4b. Does bmi of males differ significantly from that of females?"
   ]
  },
  {
   "cell_type": "code",
   "execution_count": null,
   "metadata": {},
   "outputs": [],
   "source": [
    "sns.swarmplot(y=df.bmi,x=df.sex)\n",
    "plt.show()\n",
    "print(\"BMI distribution looks similar for both genders\")"
   ]
  },
  {
   "cell_type": "code",
   "execution_count": null,
   "metadata": {},
   "outputs": [],
   "source": [
    "sns.scatterplot(x=df.bmi, y=df.age, hue=df.sex)"
   ]
  },
  {
   "cell_type": "code",
   "execution_count": null,
   "metadata": {},
   "outputs": [],
   "source": [
    "# Ho = \"BMI is similar for males and females\"\n",
    "# Ha = \"BMI is not similar for males and females\"\n",
    "# considering alpha of 0.05 , significance level of 5%"
   ]
  },
  {
   "cell_type": "code",
   "execution_count": null,
   "metadata": {},
   "outputs": [],
   "source": [
    "male_bmi=df[df['sex']=='male'].bmi\n",
    "male_bmi.mean()"
   ]
  },
  {
   "cell_type": "code",
   "execution_count": null,
   "metadata": {},
   "outputs": [],
   "source": [
    "female_bmi=df[df['sex']=='female'].bmi\n",
    "female_bmi.mean()"
   ]
  },
  {
   "cell_type": "code",
   "execution_count": null,
   "metadata": {},
   "outputs": [],
   "source": [
    "# mean BMI looks close enough for male and femal"
   ]
  },
  {
   "cell_type": "code",
   "execution_count": null,
   "metadata": {},
   "outputs": [],
   "source": [
    "t_bmi,p_value_bmi=stats.ttest_ind(female_bmi,male_bmi)\n",
    "print(p_value_bmi)\n",
    "print(t_bmi)"
   ]
  },
  {
   "cell_type": "code",
   "execution_count": null,
   "metadata": {},
   "outputs": [],
   "source": [
    "if(p_value_bmi<0.05):\n",
    "    print('''p-Values is less than 5% significane level or 0.05, \n",
    "    i.e. we reject the null hypothesis of BMI is similar for males and females.\n",
    "    Ha = \"BMI is not similar for males and females\"\n",
    "    \\np-values: ''',p_value_bmi,\n",
    "    '''\\nt-Stats:''',t_bmi)\n",
    "else:\n",
    "    print('''p-Values is greater than 5% significane level or 0.05, \n",
    "    \\n i.e. we fail to reject the null hypothesis of BMI is similar for males and females.\n",
    "    Ho = \"BMI is similar for males and females\"\n",
    "    \\np-values: ''',p_value_bmi,\n",
    "    '''\\nt-Stats:''',t_bmi)"
   ]
  },
  {
   "cell_type": "code",
   "execution_count": null,
   "metadata": {},
   "outputs": [],
   "source": []
  },
  {
   "cell_type": "code",
   "execution_count": null,
   "metadata": {},
   "outputs": [],
   "source": []
  },
  {
   "cell_type": "markdown",
   "metadata": {},
   "source": [
    "### 4.c Is the proportion of smokers significantly different in different genders?"
   ]
  },
  {
   "cell_type": "code",
   "execution_count": null,
   "metadata": {},
   "outputs": [],
   "source": [
    "sns.countplot(x=df.smoker, hue=df.sex)"
   ]
  },
  {
   "cell_type": "code",
   "execution_count": null,
   "metadata": {},
   "outputs": [],
   "source": [
    "print(\"There is slight count difference between male and female smokers.\")"
   ]
  },
  {
   "cell_type": "code",
   "execution_count": null,
   "metadata": {},
   "outputs": [],
   "source": [
    "#Chi-squared test for nominal (categorical) data"
   ]
  },
  {
   "cell_type": "code",
   "execution_count": null,
   "metadata": {},
   "outputs": [],
   "source": [
    "crosstab = pd.crosstab(df['sex'],df['smoker'])  # Contingency table of sex and smoker attributes\n",
    "\n",
    "chi, p_value_sesm, dof, expected =  stats.chi2_contingency(crosstab)\n",
    "print(p_value_sesm)"
   ]
  },
  {
   "cell_type": "code",
   "execution_count": null,
   "metadata": {},
   "outputs": [],
   "source": [
    "#Ho = Proportion of smokers are similar in different genders\n",
    "#Ha = Proportion of smokers significantly different in different genders\n",
    "# considering alpha of 0.05 , significance level of 5%"
   ]
  },
  {
   "cell_type": "code",
   "execution_count": null,
   "metadata": {},
   "outputs": [],
   "source": [
    "if p_value_sesm < 0.05:  # Setting our significance level at 5%\n",
    "    print(\"p-Values is less than 5% significane level or 0.05, Reject the null hypothesis\")\n",
    "    print(\"Ha = Proportion of smokers significantly different in different genders\")\n",
    "else:\n",
    "    print(\"p-Values is greater than 5% significane level or 0.05, Failed to reject null hypothesis\")\n",
    "    print(\"Ho = Proportion of smokers are similar in different genders\")"
   ]
  },
  {
   "cell_type": "code",
   "execution_count": null,
   "metadata": {},
   "outputs": [],
   "source": []
  },
  {
   "cell_type": "code",
   "execution_count": null,
   "metadata": {},
   "outputs": [],
   "source": []
  },
  {
   "cell_type": "markdown",
   "metadata": {},
   "source": [
    "### 4d. Is the distribution of bmi across women with no children, one child and two children, the same?"
   ]
  },
  {
   "cell_type": "code",
   "execution_count": null,
   "metadata": {},
   "outputs": [],
   "source": [
    "df_female = copy.deepcopy(df[df['sex'] == 'female'])\n",
    "df_female"
   ]
  },
  {
   "cell_type": "code",
   "execution_count": null,
   "metadata": {},
   "outputs": [],
   "source": [
    "print(df_female[df_female['children'] == 0]['bmi'].mean())\n",
    "print(df_female[df_female['children'] == 1]['bmi'].mean())\n",
    "print(df_female[df_female['children'] == 2]['bmi'].mean())"
   ]
  },
  {
   "cell_type": "code",
   "execution_count": null,
   "metadata": {},
   "outputs": [],
   "source": [
    "print(\"Mean BMI looks similar for all 3 \")"
   ]
  },
  {
   "cell_type": "code",
   "execution_count": null,
   "metadata": {},
   "outputs": [],
   "source": [
    "zero = df_female[df_female.children == 0]['bmi']\n",
    "one = df_female[df_female.children == 1]['bmi']\n",
    "two = df_female[df_female.children == 2]['bmi']"
   ]
  },
  {
   "cell_type": "code",
   "execution_count": null,
   "metadata": {},
   "outputs": [],
   "source": [
    "# Ho = distribution of bmi across women with no children, one child and two children, the same\n",
    "# Ha = distribution of bmi across women with no children, one child and two children, not the same\n",
    "# considering alpha of 0.05 , significance level of 5%"
   ]
  },
  {
   "cell_type": "code",
   "execution_count": null,
   "metadata": {},
   "outputs": [],
   "source": [
    "\n",
    "f_stat, p_value_fm = stats.f_oneway(zero,one,two)\n",
    "\n",
    "if p_value_fm < 0.05:\n",
    "    print(\"p-Values is less than 5% significane level or 0.05, Reject the null hypothesis.\")\n",
    "    print(p_value_fm)\n",
    "    print(\"Ha = distribution of bmi across women with no children, one child and two children, is not same.\")\n",
    "else:\n",
    "    print(\"p-Values is greater than 5% significane level or 0.05, Failed to reject null hypothesis.\")\n",
    "    print(p_value_fm)\n",
    "    print(\"Ho = distribution of bmi across women with no children, one child and two children, is same.\")"
   ]
  },
  {
   "cell_type": "code",
   "execution_count": null,
   "metadata": {},
   "outputs": [],
   "source": []
  },
  {
   "cell_type": "code",
   "execution_count": null,
   "metadata": {},
   "outputs": [],
   "source": []
  }
 ],
 "metadata": {
  "colab": {
   "collapsed_sections": [],
   "name": "Project_AppliedStatistics_26July2020.ipynb",
   "provenance": [],
   "toc_visible": true
  },
  "kernelspec": {
   "display_name": "Python 3",
   "language": "python",
   "name": "python3"
  },
  "language_info": {
   "codemirror_mode": {
    "name": "ipython",
    "version": 3
   },
   "file_extension": ".py",
   "mimetype": "text/x-python",
   "name": "python",
   "nbconvert_exporter": "python",
   "pygments_lexer": "ipython3",
   "version": "3.7.7"
  }
 },
 "nbformat": 4,
 "nbformat_minor": 1
}
